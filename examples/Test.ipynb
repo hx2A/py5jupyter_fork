{
 "cells": [
  {
   "cell_type": "code",
   "execution_count": null,
   "id": "519bbb6e",
   "metadata": {},
   "outputs": [],
   "source": [
    "import io\n",
    "\n",
    "import PIL\n",
    "import py5\n",
    "\n",
    "import ipywidgets as widgets\n",
    "\n",
    "from py5jupyter import Py5SketchPortalWidget\n",
    "\n",
    "from py5_tools.hooks.hooks import SketchPortalHook"
   ]
  },
  {
   "cell_type": "code",
   "execution_count": null,
   "id": "2166c8aa",
   "metadata": {},
   "outputs": [],
   "source": [
    "def setup():\n",
    "    py5.size(500, 500)\n",
    "    \n",
    "def draw():\n",
    "    py5.rect(py5.mouse_x, py5.mouse_y, 10, 10)\n",
    "    \n",
    "py5.run_sketch()"
   ]
  },
  {
   "cell_type": "code",
   "execution_count": null,
   "id": "8ac75520",
   "metadata": {},
   "outputs": [],
   "source": [
    "def sketch_portal(*, time_limit: float = 0.0, throttle_frame_rate: float = 30,\n",
    "                  scale: float = 1.0, quality: int = 75,\n",
    "                  portal = None, sketch = None,\n",
    "                  hook_post_draw: bool = False) -> None:\n",
    "    \"\"\"$module_Py5Tools_sketch_portal\"\"\"\n",
    "    if sketch is None:\n",
    "        import py5\n",
    "        sketch = py5.get_current_sketch()\n",
    "        prefix = ' current'\n",
    "    else:\n",
    "        prefix = ''\n",
    "\n",
    "    if portal is None:\n",
    "        portal = Py5SketchPortalWidget(sketch)\n",
    "\n",
    "    def displayer(frame):\n",
    "        img = PIL.Image.fromarray(frame)\n",
    "        if scale != 1.0:\n",
    "            img = img.resize(tuple(int(scale * x) for x in img.size))\n",
    "        b = io.BytesIO()\n",
    "        img.save(b, format='JPEG', quality=quality)\n",
    "        portal.value = b.getvalue()\n",
    "        \n",
    "    hook = SketchPortalHook(displayer, throttle_frame_rate, time_limit)\n",
    "\n",
    "    sketch._add_post_hook('post_draw' if hook_post_draw else 'draw', hook.hook_name, hook)\n",
    "\n",
    "    exit_button = widgets.Button(description='exit_sketch()')\n",
    "    exit_button.on_click(lambda x: sketch.exit_sketch())\n",
    "\n",
    "    return widgets.VBox([portal, exit_button])\n"
   ]
  },
  {
   "cell_type": "code",
   "execution_count": null,
   "id": "bd2ba0fb",
   "metadata": {},
   "outputs": [],
   "source": [
    "sketch_portal(time_limit=30)"
   ]
  },
  {
   "cell_type": "code",
   "execution_count": null,
   "id": "98dbcceb",
   "metadata": {},
   "outputs": [],
   "source": []
  },
  {
   "cell_type": "code",
   "execution_count": null,
   "id": "cb07ff32",
   "metadata": {},
   "outputs": [],
   "source": []
  },
  {
   "cell_type": "code",
   "execution_count": null,
   "id": "c465eeba",
   "metadata": {},
   "outputs": [],
   "source": []
  }
 ],
 "metadata": {
  "kernelspec": {
   "display_name": "Python 3 (ipykernel)",
   "language": "python",
   "name": "python3"
  },
  "language_info": {
   "codemirror_mode": {
    "name": "ipython",
    "version": 3
   },
   "file_extension": ".py",
   "mimetype": "text/x-python",
   "name": "python",
   "nbconvert_exporter": "python",
   "pygments_lexer": "ipython3",
   "version": "3.8.13"
  }
 },
 "nbformat": 4,
 "nbformat_minor": 5
}
