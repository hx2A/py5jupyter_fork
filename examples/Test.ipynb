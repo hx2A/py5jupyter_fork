{
 "cells": [
  {
   "cell_type": "code",
   "execution_count": null,
   "id": "bf308ae2",
   "metadata": {},
   "outputs": [],
   "source": [
    "import py5_tools\n",
    "\n",
    "import py5"
   ]
  },
  {
   "cell_type": "code",
   "execution_count": null,
   "id": "e8edf297",
   "metadata": {},
   "outputs": [],
   "source": [
    "def setup():\n",
    "    py5.size(500, 500)\n",
    "    py5.background(255)\n",
    "    \n",
    "def draw():\n",
    "    py5.rect(py5.mouse_x, py5.mouse_y, 10, 10)\n",
    "    \n",
    "py5.run_sketch()"
   ]
  },
  {
   "cell_type": "code",
   "execution_count": null,
   "id": "c7203f14",
   "metadata": {},
   "outputs": [],
   "source": [
    "py5_tools.sketch_portal()"
   ]
  },
  {
   "cell_type": "code",
   "execution_count": null,
   "id": "7fac44dd",
   "metadata": {},
   "outputs": [],
   "source": []
  },
  {
   "cell_type": "code",
   "execution_count": null,
   "id": "b2e8e69e",
   "metadata": {},
   "outputs": [],
   "source": []
  },
  {
   "cell_type": "code",
   "execution_count": null,
   "id": "486feb6b",
   "metadata": {},
   "outputs": [],
   "source": []
  }
 ],
 "metadata": {
  "kernelspec": {
   "display_name": "Python 3 (ipykernel)",
   "language": "python",
   "name": "python3"
  },
  "language_info": {
   "codemirror_mode": {
    "name": "ipython",
    "version": 3
   },
   "file_extension": ".py",
   "mimetype": "text/x-python",
   "name": "python",
   "nbconvert_exporter": "python",
   "pygments_lexer": "ipython3",
   "version": "3.8.13"
  }
 },
 "nbformat": 4,
 "nbformat_minor": 5
}
